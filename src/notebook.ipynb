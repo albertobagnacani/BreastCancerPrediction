{
 "cells": [
  {
   "cell_type": "code",
   "execution_count": 55,
   "metadata": {
    "pycharm": {
     "is_executing": false,
     "name": "#%%\n"
    }
   },
   "outputs": [],
   "source": [
    "# TODOP modularize the project\n",
    "\n",
    "import numpy as np # Array computing\n",
    "import pandas as pd # Data structure\n",
    "import matplotlib.pyplot as plt # Plots\n",
    "import seaborn as sns # Data visualization\n",
    "\n",
    "# Read the data\n",
    "df = pd.read_csv(\"../res/data/data.csv\")"
   ]
  },
  {
   "cell_type": "code",
   "execution_count": 56,
   "outputs": [
    {
     "data": {
      "text/plain": "         id diagnosis  radius_mean  texture_mean  perimeter_mean  area_mean  \\\n0    842302         M        17.99         10.38          122.80     1001.0   \n1    842517         M        20.57         17.77          132.90     1326.0   \n2  84300903         M        19.69         21.25          130.00     1203.0   \n3  84348301         M        11.42         20.38           77.58      386.1   \n4  84358402         M        20.29         14.34          135.10     1297.0   \n\n   smoothness_mean  compactness_mean  concavity_mean  concave points_mean  \\\n0          0.11840           0.27760          0.3001              0.14710   \n1          0.08474           0.07864          0.0869              0.07017   \n2          0.10960           0.15990          0.1974              0.12790   \n3          0.14250           0.28390          0.2414              0.10520   \n4          0.10030           0.13280          0.1980              0.10430   \n\n   ...  texture_worst  perimeter_worst  area_worst  smoothness_worst  \\\n0  ...          17.33           184.60      2019.0            0.1622   \n1  ...          23.41           158.80      1956.0            0.1238   \n2  ...          25.53           152.50      1709.0            0.1444   \n3  ...          26.50            98.87       567.7            0.2098   \n4  ...          16.67           152.20      1575.0            0.1374   \n\n   compactness_worst  concavity_worst  concave points_worst  symmetry_worst  \\\n0             0.6656           0.7119                0.2654          0.4601   \n1             0.1866           0.2416                0.1860          0.2750   \n2             0.4245           0.4504                0.2430          0.3613   \n3             0.8663           0.6869                0.2575          0.6638   \n4             0.2050           0.4000                0.1625          0.2364   \n\n   fractal_dimension_worst  Unnamed: 32  \n0                  0.11890          NaN  \n1                  0.08902          NaN  \n2                  0.08758          NaN  \n3                  0.17300          NaN  \n4                  0.07678          NaN  \n\n[5 rows x 33 columns]",
      "text/html": "<div>\n<style scoped>\n    .dataframe tbody tr th:only-of-type {\n        vertical-align: middle;\n    }\n\n    .dataframe tbody tr th {\n        vertical-align: top;\n    }\n\n    .dataframe thead th {\n        text-align: right;\n    }\n</style>\n<table border=\"1\" class=\"dataframe\">\n  <thead>\n    <tr style=\"text-align: right;\">\n      <th></th>\n      <th>id</th>\n      <th>diagnosis</th>\n      <th>radius_mean</th>\n      <th>texture_mean</th>\n      <th>perimeter_mean</th>\n      <th>area_mean</th>\n      <th>smoothness_mean</th>\n      <th>compactness_mean</th>\n      <th>concavity_mean</th>\n      <th>concave points_mean</th>\n      <th>...</th>\n      <th>texture_worst</th>\n      <th>perimeter_worst</th>\n      <th>area_worst</th>\n      <th>smoothness_worst</th>\n      <th>compactness_worst</th>\n      <th>concavity_worst</th>\n      <th>concave points_worst</th>\n      <th>symmetry_worst</th>\n      <th>fractal_dimension_worst</th>\n      <th>Unnamed: 32</th>\n    </tr>\n  </thead>\n  <tbody>\n    <tr>\n      <td>0</td>\n      <td>842302</td>\n      <td>M</td>\n      <td>17.99</td>\n      <td>10.38</td>\n      <td>122.80</td>\n      <td>1001.0</td>\n      <td>0.11840</td>\n      <td>0.27760</td>\n      <td>0.3001</td>\n      <td>0.14710</td>\n      <td>...</td>\n      <td>17.33</td>\n      <td>184.60</td>\n      <td>2019.0</td>\n      <td>0.1622</td>\n      <td>0.6656</td>\n      <td>0.7119</td>\n      <td>0.2654</td>\n      <td>0.4601</td>\n      <td>0.11890</td>\n      <td>NaN</td>\n    </tr>\n    <tr>\n      <td>1</td>\n      <td>842517</td>\n      <td>M</td>\n      <td>20.57</td>\n      <td>17.77</td>\n      <td>132.90</td>\n      <td>1326.0</td>\n      <td>0.08474</td>\n      <td>0.07864</td>\n      <td>0.0869</td>\n      <td>0.07017</td>\n      <td>...</td>\n      <td>23.41</td>\n      <td>158.80</td>\n      <td>1956.0</td>\n      <td>0.1238</td>\n      <td>0.1866</td>\n      <td>0.2416</td>\n      <td>0.1860</td>\n      <td>0.2750</td>\n      <td>0.08902</td>\n      <td>NaN</td>\n    </tr>\n    <tr>\n      <td>2</td>\n      <td>84300903</td>\n      <td>M</td>\n      <td>19.69</td>\n      <td>21.25</td>\n      <td>130.00</td>\n      <td>1203.0</td>\n      <td>0.10960</td>\n      <td>0.15990</td>\n      <td>0.1974</td>\n      <td>0.12790</td>\n      <td>...</td>\n      <td>25.53</td>\n      <td>152.50</td>\n      <td>1709.0</td>\n      <td>0.1444</td>\n      <td>0.4245</td>\n      <td>0.4504</td>\n      <td>0.2430</td>\n      <td>0.3613</td>\n      <td>0.08758</td>\n      <td>NaN</td>\n    </tr>\n    <tr>\n      <td>3</td>\n      <td>84348301</td>\n      <td>M</td>\n      <td>11.42</td>\n      <td>20.38</td>\n      <td>77.58</td>\n      <td>386.1</td>\n      <td>0.14250</td>\n      <td>0.28390</td>\n      <td>0.2414</td>\n      <td>0.10520</td>\n      <td>...</td>\n      <td>26.50</td>\n      <td>98.87</td>\n      <td>567.7</td>\n      <td>0.2098</td>\n      <td>0.8663</td>\n      <td>0.6869</td>\n      <td>0.2575</td>\n      <td>0.6638</td>\n      <td>0.17300</td>\n      <td>NaN</td>\n    </tr>\n    <tr>\n      <td>4</td>\n      <td>84358402</td>\n      <td>M</td>\n      <td>20.29</td>\n      <td>14.34</td>\n      <td>135.10</td>\n      <td>1297.0</td>\n      <td>0.10030</td>\n      <td>0.13280</td>\n      <td>0.1980</td>\n      <td>0.10430</td>\n      <td>...</td>\n      <td>16.67</td>\n      <td>152.20</td>\n      <td>1575.0</td>\n      <td>0.1374</td>\n      <td>0.2050</td>\n      <td>0.4000</td>\n      <td>0.1625</td>\n      <td>0.2364</td>\n      <td>0.07678</td>\n      <td>NaN</td>\n    </tr>\n  </tbody>\n</table>\n<p>5 rows × 33 columns</p>\n</div>"
     },
     "metadata": {},
     "output_type": "execute_result",
     "execution_count": 56
    }
   ],
   "source": [
    "# 1) Quick look at the data structure\n",
    "\n",
    "# 1.1) Get insights\n",
    "# TODO2 more statistic\n",
    "# TODO2 see outliers\n",
    "\n",
    "# First 5 rows of data\n",
    "df.head()"
   ],
   "metadata": {
    "collapsed": false,
    "pycharm": {
     "name": "#%%\n",
     "is_executing": false
    }
   }
  },
  {
   "cell_type": "code",
   "execution_count": 57,
   "outputs": [
    {
     "data": {
      "text/plain": "Index(['id', 'diagnosis', 'radius_mean', 'texture_mean', 'perimeter_mean',\n       'area_mean', 'smoothness_mean', 'compactness_mean', 'concavity_mean',\n       'concave points_mean', 'symmetry_mean', 'fractal_dimension_mean',\n       'radius_se', 'texture_se', 'perimeter_se', 'area_se', 'smoothness_se',\n       'compactness_se', 'concavity_se', 'concave points_se', 'symmetry_se',\n       'fractal_dimension_se', 'radius_worst', 'texture_worst',\n       'perimeter_worst', 'area_worst', 'smoothness_worst',\n       'compactness_worst', 'concavity_worst', 'concave points_worst',\n       'symmetry_worst', 'fractal_dimension_worst', 'Unnamed: 32'],\n      dtype='object')"
     },
     "metadata": {},
     "output_type": "execute_result",
     "execution_count": 57
    }
   ],
   "source": [
    "# Columns of the dataset\n",
    "df.columns"
   ],
   "metadata": {
    "collapsed": false,
    "pycharm": {
     "name": "#%%\n",
     "is_executing": false
    }
   }
  },
  {
   "cell_type": "code",
   "execution_count": 58,
   "outputs": [
    {
     "data": {
      "text/plain": "                 id  radius_mean  texture_mean  perimeter_mean    area_mean  \\\ncount  5.690000e+02   569.000000    569.000000      569.000000   569.000000   \nmean   3.037183e+07    14.127292     19.289649       91.969033   654.889104   \nstd    1.250206e+08     3.524049      4.301036       24.298981   351.914129   \nmin    8.670000e+03     6.981000      9.710000       43.790000   143.500000   \n25%    8.692180e+05    11.700000     16.170000       75.170000   420.300000   \n50%    9.060240e+05    13.370000     18.840000       86.240000   551.100000   \n75%    8.813129e+06    15.780000     21.800000      104.100000   782.700000   \nmax    9.113205e+08    28.110000     39.280000      188.500000  2501.000000   \n\n       smoothness_mean  compactness_mean  concavity_mean  concave points_mean  \\\ncount       569.000000        569.000000      569.000000           569.000000   \nmean          0.096360          0.104341        0.088799             0.048919   \nstd           0.014064          0.052813        0.079720             0.038803   \nmin           0.052630          0.019380        0.000000             0.000000   \n25%           0.086370          0.064920        0.029560             0.020310   \n50%           0.095870          0.092630        0.061540             0.033500   \n75%           0.105300          0.130400        0.130700             0.074000   \nmax           0.163400          0.345400        0.426800             0.201200   \n\n       symmetry_mean  ...  texture_worst  perimeter_worst   area_worst  \\\ncount     569.000000  ...     569.000000       569.000000   569.000000   \nmean        0.181162  ...      25.677223       107.261213   880.583128   \nstd         0.027414  ...       6.146258        33.602542   569.356993   \nmin         0.106000  ...      12.020000        50.410000   185.200000   \n25%         0.161900  ...      21.080000        84.110000   515.300000   \n50%         0.179200  ...      25.410000        97.660000   686.500000   \n75%         0.195700  ...      29.720000       125.400000  1084.000000   \nmax         0.304000  ...      49.540000       251.200000  4254.000000   \n\n       smoothness_worst  compactness_worst  concavity_worst  \\\ncount        569.000000         569.000000       569.000000   \nmean           0.132369           0.254265         0.272188   \nstd            0.022832           0.157336         0.208624   \nmin            0.071170           0.027290         0.000000   \n25%            0.116600           0.147200         0.114500   \n50%            0.131300           0.211900         0.226700   \n75%            0.146000           0.339100         0.382900   \nmax            0.222600           1.058000         1.252000   \n\n       concave points_worst  symmetry_worst  fractal_dimension_worst  \\\ncount            569.000000      569.000000               569.000000   \nmean               0.114606        0.290076                 0.083946   \nstd                0.065732        0.061867                 0.018061   \nmin                0.000000        0.156500                 0.055040   \n25%                0.064930        0.250400                 0.071460   \n50%                0.099930        0.282200                 0.080040   \n75%                0.161400        0.317900                 0.092080   \nmax                0.291000        0.663800                 0.207500   \n\n       Unnamed: 32  \ncount          0.0  \nmean           NaN  \nstd            NaN  \nmin            NaN  \n25%            NaN  \n50%            NaN  \n75%            NaN  \nmax            NaN  \n\n[8 rows x 32 columns]",
      "text/html": "<div>\n<style scoped>\n    .dataframe tbody tr th:only-of-type {\n        vertical-align: middle;\n    }\n\n    .dataframe tbody tr th {\n        vertical-align: top;\n    }\n\n    .dataframe thead th {\n        text-align: right;\n    }\n</style>\n<table border=\"1\" class=\"dataframe\">\n  <thead>\n    <tr style=\"text-align: right;\">\n      <th></th>\n      <th>id</th>\n      <th>radius_mean</th>\n      <th>texture_mean</th>\n      <th>perimeter_mean</th>\n      <th>area_mean</th>\n      <th>smoothness_mean</th>\n      <th>compactness_mean</th>\n      <th>concavity_mean</th>\n      <th>concave points_mean</th>\n      <th>symmetry_mean</th>\n      <th>...</th>\n      <th>texture_worst</th>\n      <th>perimeter_worst</th>\n      <th>area_worst</th>\n      <th>smoothness_worst</th>\n      <th>compactness_worst</th>\n      <th>concavity_worst</th>\n      <th>concave points_worst</th>\n      <th>symmetry_worst</th>\n      <th>fractal_dimension_worst</th>\n      <th>Unnamed: 32</th>\n    </tr>\n  </thead>\n  <tbody>\n    <tr>\n      <td>count</td>\n      <td>5.690000e+02</td>\n      <td>569.000000</td>\n      <td>569.000000</td>\n      <td>569.000000</td>\n      <td>569.000000</td>\n      <td>569.000000</td>\n      <td>569.000000</td>\n      <td>569.000000</td>\n      <td>569.000000</td>\n      <td>569.000000</td>\n      <td>...</td>\n      <td>569.000000</td>\n      <td>569.000000</td>\n      <td>569.000000</td>\n      <td>569.000000</td>\n      <td>569.000000</td>\n      <td>569.000000</td>\n      <td>569.000000</td>\n      <td>569.000000</td>\n      <td>569.000000</td>\n      <td>0.0</td>\n    </tr>\n    <tr>\n      <td>mean</td>\n      <td>3.037183e+07</td>\n      <td>14.127292</td>\n      <td>19.289649</td>\n      <td>91.969033</td>\n      <td>654.889104</td>\n      <td>0.096360</td>\n      <td>0.104341</td>\n      <td>0.088799</td>\n      <td>0.048919</td>\n      <td>0.181162</td>\n      <td>...</td>\n      <td>25.677223</td>\n      <td>107.261213</td>\n      <td>880.583128</td>\n      <td>0.132369</td>\n      <td>0.254265</td>\n      <td>0.272188</td>\n      <td>0.114606</td>\n      <td>0.290076</td>\n      <td>0.083946</td>\n      <td>NaN</td>\n    </tr>\n    <tr>\n      <td>std</td>\n      <td>1.250206e+08</td>\n      <td>3.524049</td>\n      <td>4.301036</td>\n      <td>24.298981</td>\n      <td>351.914129</td>\n      <td>0.014064</td>\n      <td>0.052813</td>\n      <td>0.079720</td>\n      <td>0.038803</td>\n      <td>0.027414</td>\n      <td>...</td>\n      <td>6.146258</td>\n      <td>33.602542</td>\n      <td>569.356993</td>\n      <td>0.022832</td>\n      <td>0.157336</td>\n      <td>0.208624</td>\n      <td>0.065732</td>\n      <td>0.061867</td>\n      <td>0.018061</td>\n      <td>NaN</td>\n    </tr>\n    <tr>\n      <td>min</td>\n      <td>8.670000e+03</td>\n      <td>6.981000</td>\n      <td>9.710000</td>\n      <td>43.790000</td>\n      <td>143.500000</td>\n      <td>0.052630</td>\n      <td>0.019380</td>\n      <td>0.000000</td>\n      <td>0.000000</td>\n      <td>0.106000</td>\n      <td>...</td>\n      <td>12.020000</td>\n      <td>50.410000</td>\n      <td>185.200000</td>\n      <td>0.071170</td>\n      <td>0.027290</td>\n      <td>0.000000</td>\n      <td>0.000000</td>\n      <td>0.156500</td>\n      <td>0.055040</td>\n      <td>NaN</td>\n    </tr>\n    <tr>\n      <td>25%</td>\n      <td>8.692180e+05</td>\n      <td>11.700000</td>\n      <td>16.170000</td>\n      <td>75.170000</td>\n      <td>420.300000</td>\n      <td>0.086370</td>\n      <td>0.064920</td>\n      <td>0.029560</td>\n      <td>0.020310</td>\n      <td>0.161900</td>\n      <td>...</td>\n      <td>21.080000</td>\n      <td>84.110000</td>\n      <td>515.300000</td>\n      <td>0.116600</td>\n      <td>0.147200</td>\n      <td>0.114500</td>\n      <td>0.064930</td>\n      <td>0.250400</td>\n      <td>0.071460</td>\n      <td>NaN</td>\n    </tr>\n    <tr>\n      <td>50%</td>\n      <td>9.060240e+05</td>\n      <td>13.370000</td>\n      <td>18.840000</td>\n      <td>86.240000</td>\n      <td>551.100000</td>\n      <td>0.095870</td>\n      <td>0.092630</td>\n      <td>0.061540</td>\n      <td>0.033500</td>\n      <td>0.179200</td>\n      <td>...</td>\n      <td>25.410000</td>\n      <td>97.660000</td>\n      <td>686.500000</td>\n      <td>0.131300</td>\n      <td>0.211900</td>\n      <td>0.226700</td>\n      <td>0.099930</td>\n      <td>0.282200</td>\n      <td>0.080040</td>\n      <td>NaN</td>\n    </tr>\n    <tr>\n      <td>75%</td>\n      <td>8.813129e+06</td>\n      <td>15.780000</td>\n      <td>21.800000</td>\n      <td>104.100000</td>\n      <td>782.700000</td>\n      <td>0.105300</td>\n      <td>0.130400</td>\n      <td>0.130700</td>\n      <td>0.074000</td>\n      <td>0.195700</td>\n      <td>...</td>\n      <td>29.720000</td>\n      <td>125.400000</td>\n      <td>1084.000000</td>\n      <td>0.146000</td>\n      <td>0.339100</td>\n      <td>0.382900</td>\n      <td>0.161400</td>\n      <td>0.317900</td>\n      <td>0.092080</td>\n      <td>NaN</td>\n    </tr>\n    <tr>\n      <td>max</td>\n      <td>9.113205e+08</td>\n      <td>28.110000</td>\n      <td>39.280000</td>\n      <td>188.500000</td>\n      <td>2501.000000</td>\n      <td>0.163400</td>\n      <td>0.345400</td>\n      <td>0.426800</td>\n      <td>0.201200</td>\n      <td>0.304000</td>\n      <td>...</td>\n      <td>49.540000</td>\n      <td>251.200000</td>\n      <td>4254.000000</td>\n      <td>0.222600</td>\n      <td>1.058000</td>\n      <td>1.252000</td>\n      <td>0.291000</td>\n      <td>0.663800</td>\n      <td>0.207500</td>\n      <td>NaN</td>\n    </tr>\n  </tbody>\n</table>\n<p>8 rows × 32 columns</p>\n</div>"
     },
     "metadata": {},
     "output_type": "execute_result",
     "execution_count": 58
    }
   ],
   "source": [
    "# Statistic about the data\n",
    "df.describe()"
   ],
   "metadata": {
    "collapsed": false,
    "pycharm": {
     "name": "#%%\n",
     "is_executing": false
    }
   }
  },
  {
   "cell_type": "code",
   "execution_count": 59,
   "outputs": [
    {
     "data": {
      "text/plain": "(569, 33)"
     },
     "metadata": {},
     "output_type": "execute_result",
     "execution_count": 59
    }
   ],
   "source": [
    "# Dimensionality of the dataset\n",
    "df.shape"
   ],
   "metadata": {
    "collapsed": false,
    "pycharm": {
     "name": "#%%\n",
     "is_executing": false
    }
   }
  },
  {
   "cell_type": "code",
   "execution_count": 60,
   "outputs": [
    {
     "name": "stdout",
     "text": [
      "<class 'pandas.core.frame.DataFrame'>\nRangeIndex: 569 entries, 0 to 568\nData columns (total 33 columns):\nid                         569 non-null int64\ndiagnosis                  569 non-null object\nradius_mean                569 non-null float64\ntexture_mean               569 non-null float64\nperimeter_mean             569 non-null float64\narea_mean                  569 non-null float64\nsmoothness_mean            569 non-null float64\ncompactness_mean           569 non-null float64\nconcavity_mean             569 non-null float64\nconcave points_mean        569 non-null float64\nsymmetry_mean              569 non-null float64\nfractal_dimension_mean     569 non-null float64\nradius_se                  569 non-null float64\ntexture_se                 569 non-null float64\nperimeter_se               569 non-null float64\narea_se                    569 non-null float64\nsmoothness_se              569 non-null float64\ncompactness_se             569 non-null float64\nconcavity_se               569 non-null float64\nconcave points_se          569 non-null float64\nsymmetry_se                569 non-null float64\nfractal_dimension_se       569 non-null float64\nradius_worst               569 non-null float64\ntexture_worst              569 non-null float64\nperimeter_worst            569 non-null float64\narea_worst                 569 non-null float64\nsmoothness_worst           569 non-null float64\ncompactness_worst          569 non-null float64\nconcavity_worst            569 non-null float64\nconcave points_worst       569 non-null float64\nsymmetry_worst             569 non-null float64\nfractal_dimension_worst    569 non-null float64\nUnnamed: 32                0 non-null float64\ndtypes: float64(31), int64(1), object(1)\nmemory usage: 146.8+ KB\n"
     ],
     "output_type": "stream"
    }
   ],
   "source": [
    "# Summary of the dataset\n",
    "df.info()"
   ],
   "metadata": {
    "collapsed": false,
    "pycharm": {
     "name": "#%%\n",
     "is_executing": false
    }
   }
  },
  {
   "cell_type": "code",
   "execution_count": 61,
   "outputs": [],
   "source": [
    "# Histogram of all features\n",
    "#%matplotlib inline\n",
    "#data.hist(bins=50, figsize=(20, 15))\n",
    "#plt.show()"
   ],
   "metadata": {
    "collapsed": false,
    "pycharm": {
     "name": "#%%\n",
     "is_executing": false
    }
   }
  },
  {
   "cell_type": "code",
   "execution_count": 62,
   "outputs": [],
   "source": [
    "# 1.2) Categorical variables conversion and little cleaning\n",
    "# Convert diagnosis (B(enign)=0, M(alignant)=1) (before dividing features from labels)\n",
    "df[\"diagnosis\"] = df[\"diagnosis\"].astype('category').cat.codes\n",
    "\n",
    "# Remove useless columns\n",
    "df.drop(['id', 'Unnamed: 32'], axis=1, inplace=True)"
   ],
   "metadata": {
    "collapsed": false,
    "pycharm": {
     "name": "#%%\n",
     "is_executing": false
    }
   }
  },
  {
   "cell_type": "code",
   "execution_count": 63,
   "outputs": [],
   "source": [
    "# 1.3) Feature scaling\n",
    "# TODO (+ do correctly [on train/test set]) [only some alg. are affected if not done]\n",
    "# from sklearn.preprocessing import StandardScaler\n",
    "# scaler = StandardScaler()\n",
    "# scaler.fit(df) # scaling"
   ],
   "metadata": {
    "collapsed": false,
    "pycharm": {
     "name": "#%%\n",
     "is_executing": false
    }
   }
  },
  {
   "cell_type": "code",
   "execution_count": 64,
   "outputs": [],
   "source": [
    "# 1.4) Train/test set creation\n",
    "\n",
    "# Divide features from labels\n",
    "X = df.drop('diagnosis', axis=1)\n",
    "y = df.diagnosis\n",
    "\n",
    "# Create a stratified train and test set\n",
    "from sklearn.model_selection import train_test_split # sklearn: ML library\n",
    "X_train, X_test, y_train, y_test = train_test_split(X, y, test_size=0.2, random_state=42, stratify=y) # 80% train set, 20% test set"
   ],
   "metadata": {
    "collapsed": false,
    "pycharm": {
     "name": "#%%\n",
     "is_executing": false
    }
   }
  },
  {
   "cell_type": "code",
   "execution_count": 65,
   "outputs": [],
   "source": [
    "# 1.3) Discover and visualize the data\n",
    "# TODO2 graphs (violin, etc.)"
   ],
   "metadata": {
    "collapsed": false,
    "pycharm": {
     "name": "#%%\n",
     "is_executing": false
    }
   }
  },
  {
   "cell_type": "code",
   "execution_count": 66,
   "outputs": [
    {
     "data": {
      "text/plain": "diagnosis                  1.000000\nconcave points_worst       0.793566\nperimeter_worst            0.782914\nconcave points_mean        0.776614\nradius_worst               0.776454\nperimeter_mean             0.742636\narea_worst                 0.733825\nradius_mean                0.730029\narea_mean                  0.708984\nconcavity_mean             0.696360\nconcavity_worst            0.659610\ncompactness_mean           0.596534\ncompactness_worst          0.590998\nradius_se                  0.567134\nperimeter_se               0.556141\narea_se                    0.548236\ntexture_worst              0.456903\nsmoothness_worst           0.421465\nsymmetry_worst             0.416294\ntexture_mean               0.415185\nconcave points_se          0.408042\nsmoothness_mean            0.358560\nsymmetry_mean              0.330499\nfractal_dimension_worst    0.323872\ncompactness_se             0.292999\nconcavity_se               0.253730\nfractal_dimension_se       0.077972\nsymmetry_se               -0.006522\ntexture_se                -0.008303\nfractal_dimension_mean    -0.012838\nsmoothness_se             -0.067016\nName: diagnosis, dtype: float64"
     },
     "metadata": {},
     "output_type": "execute_result",
     "execution_count": 66
    }
   ],
   "source": [
    "# 1.4.1) Look for correlations with the target\n",
    "corr_matrix = df.corr()\n",
    "corr_matrix[\"diagnosis\"].sort_values(ascending=False) # Correlation with the target"
   ],
   "metadata": {
    "collapsed": false,
    "pycharm": {
     "name": "#%%\n",
     "is_executing": false
    }
   }
  },
  {
   "cell_type": "code",
   "execution_count": 67,
   "outputs": [],
   "source": [
    "# 1.4.2) Look for correlations between features (not target) for feature selection/extraction\n",
    "# TODOQ?"
   ],
   "metadata": {
    "collapsed": false,
    "pycharm": {
     "name": "#%%\n",
     "is_executing": false
    }
   }
  },
  {
   "cell_type": "code",
   "execution_count": 68,
   "outputs": [],
   "source": [
    "# 1.4.3) Attribute combinations\n",
    "# TODOQ?"
   ],
   "metadata": {
    "collapsed": false,
    "pycharm": {
     "name": "#%%\n",
     "is_executing": false
    }
   }
  },
  {
   "cell_type": "code",
   "execution_count": 69,
   "outputs": [],
   "source": [
    "# 2) Prepare the data for ML algorithms\n",
    "\n",
    "# 2.1) Data cleaning and text/categorical attributes\n",
    "# TODOQ?"
   ],
   "metadata": {
    "collapsed": false,
    "pycharm": {
     "name": "#%%\n",
     "is_executing": false
    }
   }
  },
  {
   "cell_type": "code",
   "execution_count": 70,
   "outputs": [],
   "source": [
    "# 2.2) Custom trasformers and trasformation pipelines\n",
    "# TODOQ?"
   ],
   "metadata": {
    "collapsed": false,
    "pycharm": {
     "name": "#%%\n",
     "is_executing": false
    }
   }
  },
  {
   "cell_type": "code",
   "execution_count": 71,
   "outputs": [],
   "source": [
    "# 3) Select and train a model\n",
    "# TODOP do an unique array (matrix) for all stats?\n",
    "accuracies = {}\n",
    "auc = {}\n",
    "# TODO more metrics: (rmse for regression), recall (sensitivity), precision, specificity, f_score, cross_val_score, roc_auc"
   ],
   "metadata": {
    "collapsed": false,
    "pycharm": {
     "name": "#%%\n",
     "is_executing": false
    }
   }
  },
  {
   "cell_type": "code",
   "execution_count": 72,
   "outputs": [],
   "source": [
    "# Plot the roc curve\n",
    "def plot_roc_curve(model, fpr, tpr):\n",
    "    plt.plot(fpr, tpr, color='orange', label='ROC')\n",
    "    plt.plot([0, 1], [0, 1], color='darkblue', linestyle='--')\n",
    "    plt.xlabel('False Positive Rate')\n",
    "    plt.ylabel('True Positive Rate')\n",
    "    plt.title('Receiver Operating Characteristic (ROC) Curve')\n",
    "    plt.legend()\n",
    "    plt.savefig(\"../res/plots/roc_\"+model+\".png\")\n",
    "    plt.show()\n",
    "    "
   ],
   "metadata": {
    "collapsed": false,
    "pycharm": {
     "name": "#%%\n",
     "is_executing": false
    }
   }
  },
  {
   "cell_type": "code",
   "execution_count": 73,
   "outputs": [
    {
     "name": "stdout",
     "text": [
      "Test Accuracy 93.86%\n"
     ],
     "output_type": "stream"
    }
   ],
   "source": [
    "#def plotDecisionBoundaries():\n",
    "\n",
    "# 3.1) Logistic Regression\n",
    "from sklearn.linear_model import LogisticRegression\n",
    "lr = LogisticRegression(solver=\"liblinear\") # liblinear ideal for small dataset\n",
    "lr.fit(X_train, y_train)\n",
    "acc = lr.score(X_test, y_test)*100\n",
    "accuracies['Logistic Regression'] = acc\n",
    "print(\"Test Accuracy {:.2f}%\".format(acc))"
   ],
   "metadata": {
    "collapsed": false,
    "pycharm": {
     "name": "#%%\n",
     "is_executing": false
    }
   }
  },
  {
   "cell_type": "code",
   "execution_count": 74,
   "outputs": [
    {
     "name": "stdout",
     "text": [
      "AUC 99.37%\n"
     ],
     "output_type": "stream"
    },
    {
     "data": {
      "text/plain": "<Figure size 432x288 with 1 Axes>",
      "image/png": "[encoded data removed]"
     },
     "metadata": {},
     "output_type": "display_data"
    }
   ],
   "source": [
    "# ROC_AUC score\n",
    "# TODOP decouple\n",
    "from sklearn.metrics import roc_auc_score\n",
    "probs = lr.predict_proba(X_test)\n",
    "probs = probs[:, 1] # probs of positive class\n",
    "auc_s = roc_auc_score(y_test, probs)*100\n",
    "auc['Logistic Regression'] = auc_s\n",
    "print(\"AUC {:.2f}%\".format(auc_s))\n",
    "\n",
    "from sklearn.metrics import roc_curve\n",
    "fpr, tpr, thresholds = roc_curve(y_test, probs)\n",
    "plot_roc_curve(\"lr\", fpr, tpr)"
   ],
   "metadata": {
    "collapsed": false,
    "pycharm": {
     "name": "#%%\n",
     "is_executing": false
    }
   }
  },
  {
   "cell_type": "code",
   "execution_count": 75,
   "outputs": [
    {
     "name": "stdout",
     "text": [
      "Cross validation score with several folds: \n[0.95652174 0.97826087 0.97826087 1.         0.95652174 0.93333333\n 0.91111111 0.93333333 0.93333333 0.93333333]\n"
     ],
     "output_type": "stream"
    }
   ],
   "source": [
    "# cross_val_score\n",
    "from sklearn.model_selection import cross_val_score\n",
    "print(\"Cross validation score with several folds: \")\n",
    "print(cross_val_score(lr, X_train, y_train, cv=10, scoring=\"accuracy\"))"
   ],
   "metadata": {
    "collapsed": false,
    "pycharm": {
     "name": "#%%\n",
     "is_executing": false
    }
   }
  },
  {
   "cell_type": "code",
   "execution_count": 76,
   "outputs": [
    {
     "name": "stdout",
     "text": [
      "Test Accuracy 89.47%\n"
     ],
     "output_type": "stream"
    }
   ],
   "source": [
    "# 3.2) SGDClassifier\n",
    "from sklearn.linear_model import SGDClassifier\n",
    "sgdc = SGDClassifier()\n",
    "sgdc.fit(X_train, y_train)\n",
    "acc = sgdc.score(X_test, y_test)*100\n",
    "accuracies['SGDC'] = acc\n",
    "print(\"Test Accuracy {:.2f}%\".format(acc))"
   ],
   "metadata": {
    "collapsed": false,
    "pycharm": {
     "name": "#%%\n",
     "is_executing": false
    }
   }
  },
  {
   "cell_type": "code",
   "execution_count": 77,
   "outputs": [
    {
     "name": "stdout",
     "text": [
      "Test Accuracy 94.74%\n"
     ],
     "output_type": "stream"
    },
    {
     "data": {
      "text/plain": "<Figure size 432x288 with 1 Axes>",
      "image/png": "[encoded data removed]"
     },
     "metadata": {},
     "output_type": "display_data"
    }
   ],
   "source": [
    "# 3.3) KNN Classification\n",
    "from sklearn.neighbors import KNeighborsClassifier\n",
    "\n",
    "def best_n_of_neighbors(score_list, X_train, y_train, X_test, y_test):\n",
    "    for i in range(1, 20):\n",
    "        knn = KNeighborsClassifier(n_neighbors=i)\n",
    "        knn.fit(X_train, y_train)\n",
    "        score = knn.score(X_test, y_test)*100\n",
    "        score_list.append(score)\n",
    "    \n",
    "    return score_list.index(max(score_list))+1\n",
    "\n",
    "def knn_score_plot(score_list):\n",
    "    plt.plot(range(1, 20), score_list)\n",
    "    plt.xticks(np.arange(1, 20, 1))\n",
    "    plt.xlabel(\"K value\")\n",
    "    plt.ylabel(\"Score\")\n",
    "    plt.savefig(\"../res/plots/knn_neighbors.png\")\n",
    "    plt.show()\n",
    "\n",
    "score_list = []\n",
    "knn = KNeighborsClassifier(n_neighbors=best_n_of_neighbors(score_list, X_train, y_train, X_test, y_test))\n",
    "knn.fit(X_train, y_train)\n",
    "acc = knn.score(X_test, y_test)*100\n",
    "accuracies['KNN'] = acc\n",
    "print(\"Test Accuracy {:.2f}%\".format(acc))\n",
    "\n",
    "knn_score_plot(score_list)"
   ],
   "metadata": {
    "collapsed": false,
    "pycharm": {
     "name": "#%%\n",
     "is_executing": false
    }
   }
  },
  {
   "cell_type": "code",
   "execution_count": 78,
   "outputs": [
    {
     "name": "stdout",
     "text": [
      "Test Accuracy 63.16%\n"
     ],
     "output_type": "stream"
    }
   ],
   "source": [
    "# 3.4.1) SVM with no feature scaling\n",
    "# TODO1 nonlinear svm?\n",
    "from sklearn.svm import SVC\n",
    "svm = SVC(random_state=42, gamma=\"auto\") # performs poorly if no feature scaling (gamma=\"scale\" solves)\n",
    "svm.fit(X_train, y_train)\n",
    "acc = svm.score(X_test, y_test)*100\n",
    "accuracies['SVM no feature scaling'] = acc\n",
    "print(\"Test Accuracy {:.2f}%\".format(acc))"
   ],
   "metadata": {
    "collapsed": false,
    "pycharm": {
     "name": "#%%\n",
     "is_executing": false
    }
   }
  },
  {
   "cell_type": "code",
   "execution_count": 79,
   "outputs": [
    {
     "name": "stdout",
     "text": [
      "Test Accuracy 98.25%\n"
     ],
     "output_type": "stream"
    }
   ],
   "source": [
    "# 3.4.2) SVM with feature scaling and grid search\n",
    "from sklearn.pipeline import Pipeline\n",
    "from sklearn.preprocessing import StandardScaler\n",
    "from sklearn.svm import LinearSVC\n",
    "\n",
    "svm = Pipeline([\n",
    "    (\"scaler\", StandardScaler()),\n",
    "    (\"lsvc\", LinearSVC(C=0.1, loss=\"hinge\")) # Alternatives: SVC(kernel=\"linear\"), SGDClassifier(loss=\"hinge\", alpha=1/(m*C))\n",
    "])\n",
    "svm.fit(X_train, y_train)\n",
    "acc = svm.score(X_test, y_test)*100\n",
    "accuracies['SVM + scaling/search'] = acc\n",
    "print(\"Test Accuracy {:.2f}%\".format(acc))"
   ],
   "metadata": {
    "collapsed": false,
    "pycharm": {
     "name": "#%%\n",
     "is_executing": false
    }
   }
  },
  {
   "cell_type": "code",
   "execution_count": 80,
   "outputs": [
    {
     "data": {
      "text/plain": "Pipeline(memory=None,\n         steps=[('scaler',\n                 StandardScaler(copy=True, with_mean=True, with_std=True)),\n                ('lsvc',\n                 LinearSVC(C=0.1, class_weight=None, dual=True,\n                           fit_intercept=True, intercept_scaling=1,\n                           loss='hinge', max_iter=1000, multi_class='ovr',\n                           penalty='l2', random_state=None, tol=0.0001,\n                           verbose=0))],\n         verbose=False)"
     },
     "metadata": {},
     "output_type": "execute_result",
     "execution_count": 80
    }
   ],
   "source": [
    "# Grid search for SVM\n",
    "from sklearn.model_selection import GridSearchCV\n",
    "\n",
    "param_grid = [\n",
    "    {'lsvc__C': [0.1, 0.2, 0.4, 0.6, 0.8, 1]} # lsvc name in the pipeline, double underscore means to selet that parameter annotated after it\n",
    "]\n",
    "\n",
    "grid_search = GridSearchCV(svm, param_grid, cv=5, scoring='neg_mean_squared_error', return_train_score=True)\n",
    "grid_search.fit(X_train, y_train)\n",
    "#grid_search.best_params_\n",
    "grid_search.best_estimator_\n"
   ],
   "metadata": {
    "collapsed": false,
    "pycharm": {
     "name": "#%%\n",
     "is_executing": false
    }
   }
  },
  {
   "cell_type": "code",
   "execution_count": 81,
   "outputs": [
    {
     "name": "stdout",
     "text": [
      "Test Accuracy 93.86%\n"
     ],
     "output_type": "stream"
    }
   ],
   "source": [
    "# 3.5) Naive Bayes\n",
    "from sklearn.naive_bayes import GaussianNB\n",
    "nb = GaussianNB()\n",
    "nb.fit(X_train, y_train)\n",
    "acc = nb.score(X_test, y_test)*100\n",
    "accuracies['Gaussian NB'] = acc\n",
    "print(\"Test Accuracy {:.2f}%\".format(acc))"
   ],
   "metadata": {
    "collapsed": false,
    "pycharm": {
     "name": "#%%\n",
     "is_executing": false
    }
   }
  },
  {
   "cell_type": "code",
   "execution_count": 82,
   "outputs": [
    {
     "name": "stdout",
     "text": [
      "Test Accuracy 92.98%\n"
     ],
     "output_type": "stream"
    }
   ],
   "source": [
    "# 3.6) Decision Tree\n",
    "from sklearn.tree import DecisionTreeClassifier\n",
    "dt = DecisionTreeClassifier()\n",
    "dt.fit(X_train, y_train)\n",
    "acc = dt.score(X_test, y_test)*100\n",
    "accuracies['Decision Tree'] = acc\n",
    "print(\"Test Accuracy {:.2f}%\".format(acc))"
   ],
   "metadata": {
    "collapsed": false,
    "pycharm": {
     "name": "#%%\n",
     "is_executing": false
    }
   }
  },
  {
   "cell_type": "code",
   "execution_count": 83,
   "outputs": [
    {
     "name": "stdout",
     "text": [
      "Test Accuracy 97.37%\n"
     ],
     "output_type": "stream"
    }
   ],
   "source": [
    "# 3.7.1) Random Forest\n",
    "from sklearn.ensemble import RandomForestClassifier\n",
    "rf = RandomForestClassifier(n_estimators=10)\n",
    "rf.fit(X_train, y_train)\n",
    "acc = rf.score(X_test, y_test)*100\n",
    "accuracies['Random Forest'] = acc\n",
    "print(\"Test Accuracy {:.2f}%\".format(acc))"
   ],
   "metadata": {
    "collapsed": false,
    "pycharm": {
     "name": "#%%\n",
     "is_executing": false
    }
   }
  },
  {
   "cell_type": "code",
   "execution_count": 84,
   "outputs": [
    {
     "name": "stdout",
     "text": [
      "Test Accuracy 97.37%\n"
     ],
     "output_type": "stream"
    }
   ],
   "source": [
    "# 3.7.2) Random Forest with grid search\n",
    "from sklearn.ensemble import RandomForestClassifier\n",
    "rf = RandomForestClassifier(bootstrap=False, max_features=6, n_estimators=100, warm_start=False)\n",
    "rf.fit(X_train, y_train)\n",
    "acc = rf.score(X_test, y_test)*100\n",
    "accuracies['Random Forest + search'] = acc\n",
    "print(\"Test Accuracy {:.2f}%\".format(acc))"
   ],
   "metadata": {
    "collapsed": false,
    "pycharm": {
     "name": "#%%\n",
     "is_executing": false
    }
   }
  },
  {
   "cell_type": "code",
   "execution_count": 85,
   "outputs": [
    {
     "data": {
      "text/plain": "RandomForestClassifier(bootstrap=False, class_weight=None, criterion='gini',\n                       max_depth=None, max_features=2, max_leaf_nodes=None,\n                       min_impurity_decrease=0.0, min_impurity_split=None,\n                       min_samples_leaf=1, min_samples_split=2,\n                       min_weight_fraction_leaf=0.0, n_estimators=100,\n                       n_jobs=None, oob_score=False, random_state=None,\n                       verbose=0, warm_start=False)"
     },
     "metadata": {},
     "output_type": "execute_result",
     "execution_count": 85
    }
   ],
   "source": [
    "# Grid search for Random Forest\n",
    "# TODOP decouple\n",
    "from sklearn.model_selection import GridSearchCV\n",
    "\n",
    "param_grid = [\n",
    "    #{'n_estimators': [3, 10, 50, 100, 200, 500], 'max_features': [2, 6, 10]},\n",
    "    {'bootstrap': [False], 'n_estimators': [3, 10, 50, 100, 200, 500], 'max_features': [2, 6, 10]},\n",
    "    {'warm_start': [True], 'n_estimators': [3, 10, 50, 100, 200, 500], 'max_features': [2, 6, 10]}\n",
    "]\n",
    "\n",
    "grid_search = GridSearchCV(rf, param_grid, cv=5, scoring='neg_mean_squared_error', return_train_score=True)\n",
    "grid_search.fit(X_train, y_train)\n",
    "#grid_search.best_params_\n",
    "grid_search.best_estimator_\n",
    "#cvres = grid_search.cv_results_\n",
    "#for mean_score, params in zip(cvres[\"mean_test_score\"], cvres[\"params\"]):\n",
    "#    print(np.sqrt(-mean_score), params)"
   ],
   "metadata": {
    "collapsed": false,
    "pycharm": {
     "name": "#%%\n",
     "is_executing": false
    }
   }
  },
  {
   "cell_type": "code",
   "execution_count": 86,
   "outputs": [],
   "source": [
    "# 3.8) Fine-tuning\n",
    "# TODO ensemble\n",
    "# Done before (randomized search instead of grid search if large search space)\n",
    "# TODO2 randomized search"
   ],
   "metadata": {
    "collapsed": false,
    "pycharm": {
     "name": "#%%\n",
     "is_executing": false
    }
   }
  },
  {
   "cell_type": "code",
   "execution_count": 87,
   "outputs": [
    {
     "data": {
      "text/plain": "<Figure size 1440x360 with 1 Axes>",
      "image/png": "[encoded data removed]"
     },
     "metadata": {},
     "output_type": "display_data"
    }
   ],
   "source": [
    "# 3.9) Comparison\n",
    "\n",
    "def plot_accuracy(accuracies):\n",
    "    sns.set_style(\"whitegrid\")\n",
    "    plt.figure(figsize=(20,5))\n",
    "    plt.yticks(np.arange(0,100,5))\n",
    "    plt.ylabel(\"Accuracy %\")\n",
    "    plt.xlabel(\"Algorithms\")\n",
    "    sns.barplot(x=list(accuracies.keys()), y=list(accuracies.values()))\n",
    "    plt.savefig(\"../res/plots/accuracies.png\")\n",
    "    plt.show()\n",
    "\n",
    "plot_accuracy(accuracies)"
   ],
   "metadata": {
    "collapsed": false,
    "pycharm": {
     "name": "#%% \n",
     "is_executing": false
    }
   }
  },
  {
   "cell_type": "code",
   "execution_count": 88,
   "outputs": [
    {
     "data": {
      "text/plain": "<Figure size 1728x864 with 12 Axes>",
      "image/png": "[encoded data removed]"
     },
     "metadata": {},
     "output_type": "display_data"
    }
   ],
   "source": [
    "# 3.10) Confusion matrix\n",
    "# TODOP refactor\n",
    "\n",
    "def plot_confusion_matrices(cms):\n",
    "    plt.figure(figsize=(24,12))\n",
    "    \n",
    "    plt.suptitle(\"Confusion matrices\", fontsize=24)\n",
    "    plt.subplots_adjust(wspace=0.4, hspace=0.4)\n",
    "    \n",
    "    plt.subplot(2,3,1)\n",
    "    plt.title(\"LR confusion matrix\")\n",
    "    sns.heatmap(cms[\"lr\"])\n",
    "    plt.xlabel('Predicted')\n",
    "    plt.ylabel('True')\n",
    "    \n",
    "    plt.subplot(2,3,2)\n",
    "    plt.title(\"KNN confusion matrix\")\n",
    "    sns.heatmap(cms[\"knn\"])\n",
    "    plt.xlabel('Predicted')\n",
    "    plt.ylabel('True')\n",
    "    \n",
    "    plt.subplot(2,3,3)\n",
    "    plt.title(\"SVM confusion matrix\")\n",
    "    sns.heatmap(cms[\"svm\"])\n",
    "    plt.xlabel('Predicted')\n",
    "    plt.ylabel('True')\n",
    "    \n",
    "    plt.subplot(2,3,4)\n",
    "    plt.title(\"NB confusion matrix\")\n",
    "    sns.heatmap(cms[\"nb\"])\n",
    "    plt.xlabel('Predicted')\n",
    "    plt.ylabel('True')\n",
    "    \n",
    "    plt.subplot(2,3,5)\n",
    "    plt.title(\"DT confusion matrix\")\n",
    "    sns.heatmap(cms[\"dt\"])\n",
    "    plt.xlabel('Predicted')\n",
    "    plt.ylabel('True')\n",
    "    \n",
    "    plt.subplot(2,3,6)\n",
    "    plt.title(\"RF confusion matrix\")\n",
    "    sns.heatmap(cms[\"rf\"])\n",
    "    #sns.heatmap(cms[\"rf\"], annot=True, cmap = \"Blues\", fmt=\"d\", cbar = False, annot_kws={\"size\": 40})\n",
    "    plt.xlabel('Predicted')\n",
    "    plt.ylabel('True')\n",
    "    \n",
    "    plt.savefig(\"../res/plots/ConfusionMatrices.png\")\n",
    "    plt.show()\n",
    "\n",
    "def plot_confusion_matrix(cms, model):\n",
    "    labels = ['Benign', 'Malignant']\n",
    "    fig = plt.figure()\n",
    "    ax = fig.add_subplot(111)\n",
    "    cax = ax.matshow(cms[model])\n",
    "    plt.title('Confusion matrix of the classifier')\n",
    "    fig.colorbar(cax)\n",
    "    ax.set_xticklabels([''] + labels)\n",
    "    ax.set_yticklabels([''] + labels)\n",
    "    plt.xlabel('Predicted')\n",
    "    plt.ylabel('True')\n",
    "    plt.savefig(\"../res/plots/ConfusionMatrix_\"+model+\".png\")\n",
    "    plt.show()\n",
    "\n",
    "heads = {}   \n",
    "heads[\"lr\"] = lr.predict(X_test)\n",
    "#heads[\"sgdc\"] = lr.predict(X_test) # not inserted\n",
    "heads[\"knn\"] = knn.predict(X_test)\n",
    "heads[\"svm\"] = svm.predict(X_test)\n",
    "heads[\"nb\"] = nb.predict(X_test)\n",
    "heads[\"dt\"] = dt.predict(X_test)\n",
    "heads[\"rf\"] = rf.predict(X_test)\n",
    "\n",
    "cms = {}\n",
    "from sklearn.metrics import confusion_matrix\n",
    "cms[\"lr\"] = confusion_matrix(y_test, heads[\"lr\"])\n",
    "#cms[\"sgdc\"] = confusion_matrix(y_test, heads[\"sgdc\"]) # not inserted\n",
    "cms[\"knn\"] = confusion_matrix(y_test, heads[\"knn\"])\n",
    "cms[\"svm\"] = confusion_matrix(y_test, heads[\"svm\"])\n",
    "cms[\"nb\"] = confusion_matrix(y_test, heads[\"nb\"])\n",
    "cms[\"dt\"] = confusion_matrix(y_test, heads[\"dt\"])\n",
    "cms[\"rf\"] = confusion_matrix(y_test, heads[\"rf\"])\n",
    "\n",
    "plot_confusion_matrices(cms)\n",
    "#plot_confusion_matrix(cms, \"lr\")\n",
    "\n",
    "# TODO plots and metrics to see if under/over fitting"
   ],
   "metadata": {
    "collapsed": false,
    "pycharm": {
     "name": "#%% \n",
     "is_executing": false
    }
   }
  }
 ],
 "metadata": {
  "kernelspec": {
   "display_name": "Python 3",
   "language": "python",
   "name": "python3"
  },
  "language_info": {
   "codemirror_mode": {
    "name": "ipython",
    "version": 3
   },
   "file_extension": ".py",
   "mimetype": "text/x-python",
   "name": "python",
   "nbconvert_exporter": "python",
   "pygments_lexer": "ipython3",
   "version": "3.7.4"
  },
  "pycharm": {
   "stem_cell": {
    "cell_type": "raw",
    "source": [],
    "metadata": {
     "collapsed": false
    }
   }
  }
 },
 "nbformat": 4,
 "nbformat_minor": 2
}